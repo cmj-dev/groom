{
 "cells": [
  {
   "cell_type": "markdown",
   "metadata": {},
   "source": [
    "# Python에서의 OOP\n",
    "\n",
    "### Getter와 Setter가 설정 가능하다.\n",
    "\n",
    "\"@property\"를 통해서 Getter와 Setter를 명시적으로 설정 할 수 있으며\n",
    "\n",
    "예시는 아래와 같다\n"
   ]
  },
  {
   "cell_type": "markdown",
   "metadata": {},
   "source": [
    "## Getter와 Setter를 설정하지 않았을 때"
   ]
  },
  {
   "cell_type": "code",
   "execution_count": 5,
   "metadata": {},
   "outputs": [
    {
     "name": "stdout",
     "output_type": "stream",
     "text": [
      "78.5398\n",
      "1.7841243017410415\n"
     ]
    }
   ],
   "source": [
    "class Circle(object):\n",
    "    PI = 3.141592\n",
    "    def __init__(self, radius=3.):\n",
    "        self.radius = radius\n",
    "    def get_area(self):\n",
    "        return Circle.PI * self.radius ** 2\n",
    "    def sef_area(self, value):\n",
    "        self.radius = (value / Circle.PI) ** .5\n",
    "\n",
    "circle = Circle(5.)\n",
    "print(circle.get_area())\n",
    "circle.sef_area(10)\n",
    "\n",
    "print(circle.radius)"
   ]
  },
  {
   "cell_type": "markdown",
   "metadata": {},
   "source": [
    "## Getter와 Setter를 설정했을때"
   ]
  },
  {
   "cell_type": "code",
   "execution_count": 6,
   "metadata": {},
   "outputs": [
    {
     "name": "stdout",
     "output_type": "stream",
     "text": [
      "78.5398\n",
      "1.7841243017410415\n"
     ]
    }
   ],
   "source": [
    "class Circle(object):\n",
    "    PI = 3.141592\n",
    "    def __init__(self, radius=3.):\n",
    "        self.radius = radius\n",
    "    +\n",
    "    @property\n",
    "    def area(self):\n",
    "        return Circle.PI * self.radius ** 2\n",
    "    @area.setter\n",
    "    def area(self, value):\n",
    "        self.radius = (value / Circle.PI) ** .5\n",
    "\n",
    "circle = Circle(5.)\n",
    "print(circle.area)\n",
    "\n",
    "circle.area = 10\n",
    "print(circle.radius)"
   ]
  },
  {
   "cell_type": "markdown",
   "metadata": {},
   "source": [
    "# Python의 magic method"
   ]
  },
  {
   "cell_type": "markdown",
   "metadata": {},
   "source": [
    "### Indexing 메소드 (__getitem__, __setitem__)"
   ]
  },
  {
   "cell_type": "markdown",
   "metadata": {},
   "source": []
  }
 ],
 "metadata": {
  "kernelspec": {
   "display_name": "Python 3.9.12 ('base')",
   "language": "python",
   "name": "python3"
  },
  "language_info": {
   "codemirror_mode": {
    "name": "ipython",
    "version": 3
   },
   "file_extension": ".py",
   "mimetype": "text/x-python",
   "name": "python",
   "nbconvert_exporter": "python",
   "pygments_lexer": "ipython3",
   "version": "3.9.12"
  },
  "orig_nbformat": 4,
  "vscode": {
   "interpreter": {
    "hash": "c3108f0eb53a8b68eb4132aec50c5cd9cd32243b94aaa2255ce7d2c62f93cae5"
   }
  }
 },
 "nbformat": 4,
 "nbformat_minor": 2
}
