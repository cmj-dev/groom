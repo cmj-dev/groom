{
 "cells": [
  {
   "cell_type": "markdown",
   "metadata": {},
   "source": [
    "# Python에서의 OOP\n",
    "\n",
    "### Getter와 Setter가 설정 가능하다.\n",
    "\n",
    "\"@property\"를 통해서 Getter와 Setter를 명시적으로 설정 할 수 있으며\n",
    "\n",
    "예시는 아래와 같다\n"
   ]
  },
  {
   "cell_type": "markdown",
   "metadata": {},
   "source": [
    "## Getter와 Setter를 설정하지 않았을 때"
   ]
  },
  {
   "cell_type": "code",
   "execution_count": 5,
   "metadata": {},
   "outputs": [
    {
     "name": "stdout",
     "output_type": "stream",
     "text": [
      "78.5398\n",
      "1.7841243017410415\n"
     ]
    }
   ],
   "source": [
    "class Circle(object):\n",
    "    PI = 3.141592\n",
    "    def __init__(self, radius=3.):\n",
    "        self.radius = radius\n",
    "    def get_area(self):\n",
    "        return Circle.PI * self.radius ** 2\n",
    "    def sef_area(self, value):\n",
    "        self.radius = (value / Circle.PI) ** .5\n",
    "\n",
    "circle = Circle(5.)\n",
    "print(circle.get_area())\n",
    "circle.sef_area(10)\n",
    "\n",
    "print(circle.radius)"
   ]
  },
  {
   "cell_type": "markdown",
   "metadata": {},
   "source": [
    "## Static & Class Method\n",
    "\n",
    "두 경우 모두 비슷하지만 상속을 받았을 때, factory method가 return 해주는 class에 차이가 생긴다.\n",
    "\n",
    "Static Method의 경우에는 Number를 지칭해서 return해주기 때문에 자식클래스가 static_factory를 써도 그대로 Number class return\n",
    "\n",
    "Class Method의 경우에는 cls를 return해주고 이때 cls는 self와 비슷한 역할을 하기 때문에 상속 받은 자식 클래스는 자신의 class를 return"
   ]
  },
  {
   "cell_type": "code",
   "execution_count": null,
   "metadata": {},
   "outputs": [],
   "source": [
    "class Number:\n",
    "    Constant = 10\n",
    "\n",
    "    @staticmethod\n",
    "    def static_factory():\n",
    "        obj = Number()\n",
    "        obj.value = Number.Constant\n",
    "        return obj\n",
    "\n",
    "    @classmethod\n",
    "    def class_factory(cls):\n",
    "        obj = cls()\n",
    "        obj.value = cls.Constant\n",
    "        return obj"
   ]
  },
  {
   "cell_type": "markdown",
   "metadata": {},
   "source": [
    "## Getter와 Setter를 설정했을때"
   ]
  },
  {
   "cell_type": "code",
   "execution_count": 6,
   "metadata": {},
   "outputs": [
    {
     "name": "stdout",
     "output_type": "stream",
     "text": [
      "78.5398\n",
      "1.7841243017410415\n"
     ]
    }
   ],
   "source": [
    "class Circle(object):\n",
    "    PI = 3.141592\n",
    "    def __init__(self, radius=3.):\n",
    "        self.radius = radius\n",
    "    +\n",
    "    @property\n",
    "    def area(self):\n",
    "        return Circle.PI * self.radius ** 2\n",
    "    @area.setter\n",
    "    def area(self, value):\n",
    "        self.radius = (value / Circle.PI) ** .5\n",
    "\n",
    "circle = Circle(5.)\n",
    "print(circle.area)\n",
    "\n",
    "circle.area = 10\n",
    "print(circle.radius)"
   ]
  },
  {
   "cell_type": "markdown",
   "metadata": {},
   "source": [
    "# Python의 magic method"
   ]
  },
  {
   "cell_type": "markdown",
   "metadata": {},
   "source": [
    "### Indexing 메소드 (__getitem__, __setitem__)"
   ]
  },
  {
   "cell_type": "code",
   "execution_count": 7,
   "metadata": {},
   "outputs": [
    {
     "name": "stdout",
     "output_type": "stream",
     "text": [
      "20 (1, 2, 1, 2)\n",
      "15 (1, 2, 1, 2)\n"
     ]
    }
   ],
   "source": [
    "class DoubleMapper:\n",
    "    def __init__(self):\n",
    "        self.mapping = {}\n",
    "    \n",
    "    def __getitem__(self, index):\n",
    "        return self.mapping.get(index, index*2)\n",
    "    \n",
    "    def __setitem__(self, index, item):\n",
    "        self.mapping[index] = item\n",
    "\n",
    "mapper = DoubleMapper()\n",
    "print(mapper[10], mapper[1,2])\n",
    "mapper[10] = 15 # setitem method가 자동으로 실행된다. 이때, index = 10, item = 15가 대입된다.\n",
    "print(mapper[10], mapper[1,2])"
   ]
  },
  {
   "cell_type": "markdown",
   "metadata": {},
   "source": [
    "### Call 메소드 (__call__)\n",
    "\n",
    "함수처럼 생성된 객체를 호출 할 수 있게 만들어준다."
   ]
  },
  {
   "cell_type": "code",
   "execution_count": 8,
   "metadata": {},
   "outputs": [
    {
     "name": "stdout",
     "output_type": "stream",
     "text": [
      "15\n"
     ]
    }
   ],
   "source": [
    "class AdditionNumber(object):\n",
    "    def __init__(self, number: int):\n",
    "        self.number = number\n",
    "    \n",
    "    def __call__(self, number: int):\n",
    "        return number + self.number\n",
    "\n",
    "addition_5 = AdditionNumber(5)\n",
    "print(addition_5(10))"
   ]
  }
 ],
 "metadata": {
  "kernelspec": {
   "display_name": "Python 3.9.12 ('base')",
   "language": "python",
   "name": "python3"
  },
  "language_info": {
   "codemirror_mode": {
    "name": "ipython",
    "version": 3
   },
   "file_extension": ".py",
   "mimetype": "text/x-python",
   "name": "python",
   "nbconvert_exporter": "python",
   "pygments_lexer": "ipython3",
   "version": "3.9.12"
  },
  "orig_nbformat": 4,
  "vscode": {
   "interpreter": {
    "hash": "c3108f0eb53a8b68eb4132aec50c5cd9cd32243b94aaa2255ce7d2c62f93cae5"
   }
  }
 },
 "nbformat": 4,
 "nbformat_minor": 2
}
