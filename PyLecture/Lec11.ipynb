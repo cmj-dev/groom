{
 "cells": [
  {
   "cell_type": "markdown",
   "metadata": {},
   "source": [
    "# Python I/O"
   ]
  },
  {
   "cell_type": "markdown",
   "metadata": {},
   "source": [
    "### Read하는 방식\n",
    "* 줄 단위로 읽는 방법\n",
    "    * for문을 이용 (\\n는 사라지지 않는다.)\n",
    "    * readlines 명령어 사용 (String List가 반환된다.)"
   ]
  },
  {
   "cell_type": "code",
   "execution_count": null,
   "metadata": {},
   "outputs": [],
   "source": [
    "contents = []\n",
    "\n",
    "with open(\"text.txt\",\"r\") as f:\n",
    "    for sentence in f:\n",
    "        contents.append(sentence)\n",
    "\n",
    "print(contents)"
   ]
  },
  {
   "cell_type": "code",
   "execution_count": null,
   "metadata": {},
   "outputs": [],
   "source": [
    "with open(\"text.txt\", \"r\") as f:\n",
    "    contents = f.readlines()\n",
    "\n",
    "print(contents)"
   ]
  },
  {
   "cell_type": "markdown",
   "metadata": {},
   "source": [
    "## Directory\n",
    "* '/'로 폴더를 나타내게 된다."
   ]
  },
  {
   "cell_type": "markdown",
   "metadata": {},
   "source": [
    "### Directory 생성"
   ]
  },
  {
   "cell_type": "code",
   "execution_count": null,
   "metadata": {},
   "outputs": [],
   "source": [
    "import os\n",
    "\n",
    "os.mkdir(\"test\") # 해당 directory가 이미 존재하면 에러발생\n",
    "\n",
    "if not os.path.isdir(\"test\"): # test dircetory가 존재하는지 확인.\n",
    "    os.mkdir(\"test\")\n",
    "\n",
    "os.makedirs(\"test/a/b/c\", exist_ok=True) \n",
    "# 하위 폴더 여러개를 한번에 생성 가능. 있어도 exist_ok라는 옵션을 통해 에러 발생 x\n"
   ]
  },
  {
   "cell_type": "markdown",
   "metadata": {},
   "source": [
    "### Directory List"
   ]
  }
 ],
 "metadata": {
  "kernelspec": {
   "display_name": "Python 3.9.12 ('base')",
   "language": "python",
   "name": "python3"
  },
  "language_info": {
   "name": "python",
   "version": "3.9.12"
  },
  "orig_nbformat": 4,
  "vscode": {
   "interpreter": {
    "hash": "c3108f0eb53a8b68eb4132aec50c5cd9cd32243b94aaa2255ce7d2c62f93cae5"
   }
  }
 },
 "nbformat": 4,
 "nbformat_minor": 2
}
