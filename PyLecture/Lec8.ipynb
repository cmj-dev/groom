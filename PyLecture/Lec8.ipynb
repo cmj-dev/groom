{
 "cells": [
  {
   "cell_type": "markdown",
   "metadata": {},
   "source": [
    "# Python에서의 자료구조"
   ]
  },
  {
   "cell_type": "markdown",
   "metadata": {},
   "source": [
    "### Queue를 위한 Linked List\n",
    "Python __collection__ library의 __deque__ 사용"
   ]
  },
  {
   "cell_type": "code",
   "execution_count": 6,
   "metadata": {},
   "outputs": [
    {
     "data": {
      "text/plain": [
       "12"
      ]
     },
     "execution_count": 6,
     "metadata": {},
     "output_type": "execute_result"
    }
   ],
   "source": [
    "from collections import deque\n",
    "queue = deque([10, 5, 12])\n",
    "\n",
    "queue.appendleft(16)\n",
    "queue.pop()"
   ]
  },
  {
   "cell_type": "code",
   "execution_count": 7,
   "metadata": {},
   "outputs": [
    {
     "data": {
      "text/plain": [
       "16"
      ]
     },
     "execution_count": 7,
     "metadata": {},
     "output_type": "execute_result"
    }
   ],
   "source": [
    "\n",
    "queue.append(20)\n",
    "queue.popleft()\n"
   ]
  },
  {
   "cell_type": "code",
   "execution_count": 8,
   "metadata": {},
   "outputs": [
    {
     "data": {
      "text/plain": [
       "deque([10, 5, 20])"
      ]
     },
     "execution_count": 8,
     "metadata": {},
     "output_type": "execute_result"
    }
   ],
   "source": [
    "queue"
   ]
  },
  {
   "cell_type": "code",
   "execution_count": 9,
   "metadata": {},
   "outputs": [
    {
     "data": {
      "text/plain": [
       "deque([20, 5, 10])"
      ]
     },
     "execution_count": 9,
     "metadata": {},
     "output_type": "execute_result"
    }
   ],
   "source": [
    "deque(reversed(queue))"
   ]
  },
  {
   "cell_type": "markdown",
   "metadata": {},
   "source": [
    "### Priority Queue\n",
    "최소 최대값을 빠르게 구하는 자료구조 2진트리 형태 사용\n",
    "\n",
    "__Heapq__ 를 사용한다"
   ]
  },
  {
   "cell_type": "code",
   "execution_count": null,
   "metadata": {},
   "outputs": [],
   "source": [
    "import heapq\n",
    "queue = [5,2,8,4]\n",
    "heapq.heapify(queue) # Heap 초기화. O(N log N)\n",
    "queue # [2, 4, 8, 5]\n",
    "queue[0] # 2"
   ]
  },
  {
   "cell_type": "code",
   "execution_count": null,
   "metadata": {},
   "outputs": [],
   "source": [
    "heapq.heappush(queue, 3) # O(log N)\n",
    "heapq.heappush(queue, 6)\n",
    "queue[0] # 2"
   ]
  },
  {
   "cell_type": "code",
   "execution_count": null,
   "metadata": {},
   "outputs": [],
   "source": [
    "item = heapq.heappop(queue) # Heap pop, O(log N)\n",
    "item, queue[0] #(2, 3)"
   ]
  },
  {
   "cell_type": "code",
   "execution_count": null,
   "metadata": {},
   "outputs": [],
   "source": [
    "item = heapq.heappushpop(queue, 7) # Push하고 Pop하는 것보다 빠르다.\n",
    "item, queue[0]"
   ]
  },
  {
   "cell_type": "markdown",
   "metadata": {},
   "source": [
    "### Default Dictionary\n",
    "기본값이 있는 dictionary를 만들 수 있다."
   ]
  },
  {
   "cell_type": "code",
   "execution_count": null,
   "metadata": {},
   "outputs": [],
   "source": [
    "from collections import defaultdict\n",
    "\n",
    "characters = defaultdict(int) # 기본값이 int(). lamda:0도 사용 가능\n",
    "for char in text:\n",
    "    characters[char] += 1"
   ]
  },
  {
   "cell_type": "markdown",
   "metadata": {},
   "source": [
    "### Counter\n",
    "iterable한 객체가 들어가게 되면 각각의 원소가 몇번씩 나왔는지 dictionary로 보여준다."
   ]
  },
  {
   "cell_type": "code",
   "execution_count": null,
   "metadata": {},
   "outputs": [],
   "source": [
    "from collections import Counter\n",
    "\n",
    "characters = Counter(text)\n",
    "print(characters)"
   ]
  },
  {
   "cell_type": "markdown",
   "metadata": {},
   "source": [
    "* Dictionary나 Kwargs 처럼 생성 및 관리가 가능"
   ]
  },
  {
   "cell_type": "code",
   "execution_count": null,
   "metadata": {},
   "outputs": [],
   "source": [
    "c = Counter({\"Korean\":2, \"English\":3})\n",
    "c = Counter(Korean=2, English=3)"
   ]
  },
  {
   "cell_type": "markdown",
   "metadata": {},
   "source": [
    "* 집합 연산 지원"
   ]
  },
  {
   "cell_type": "code",
   "execution_count": null,
   "metadata": {},
   "outputs": [],
   "source": [
    "from collections import Counter\n",
    "a = Counter([1,1,2,2,2,3])\n",
    "b = Counter([2,3,3,4])\n",
    "\n",
    "a + b # 횟수 더하기\n",
    "a & b # 교집합\n",
    "a | b # 합집합\n",
    "a - b # 차집합"
   ]
  },
  {
   "cell_type": "markdown",
   "metadata": {},
   "source": [
    "### Named Tuple\n",
    "각 튜플의 원소에 이름을 붙여서 사용 가능한 튜플이다."
   ]
  },
  {
   "cell_type": "code",
   "execution_count": null,
   "metadata": {},
   "outputs": [],
   "source": [
    "from collections import namedtuple\n",
    "\n",
    "Coords3D = namedtuple(\"Coords3D\", ['x','y','z']) # 튜플 이름과 각 원소의 이름을 정해준다.\n",
    "point = Coords3D(10, 20 ,z=30)\n",
    "print(point.x)\n",
    "print(point[1])\n",
    "print(*point)\n",
    "# Attribute 이름, Index로 참조 가능하며 Tuple Unpacking 역시 가능하다."
   ]
  },
  {
   "cell_type": "markdown",
   "metadata": {},
   "source": [
    "### Data Class\n",
    "Data를 위한 class를 만들때 사용이 가능하다."
   ]
  },
  {
   "cell_type": "code",
   "execution_count": 13,
   "metadata": {},
   "outputs": [
    {
     "name": "stdout",
     "output_type": "stream",
     "text": [
      "Coords3D(x=10, y=20, z=30)\n",
      "37.416573867739416\n"
     ]
    }
   ],
   "source": [
    "from dataclasses import dataclass\n",
    "\n",
    "@dataclass\n",
    "class Coords3D:\n",
    "    x: float\n",
    "    y: float\n",
    "    z: float = 0\n",
    "\n",
    "    def norm(self) -> float:\n",
    "        return (self.x**2 + self.y**2 + self.z**2) ** .5\n",
    "    \n",
    "point = Coords3D(10, 20, z=30)\n",
    "print(point) # class를 print 했을때도 readability가 일반 class에 비해 뛰어나다.\n",
    "print(point.norm())"
   ]
  }
 ],
 "metadata": {
  "kernelspec": {
   "display_name": "Python 3.9.12 ('base')",
   "language": "python",
   "name": "python3"
  },
  "language_info": {
   "codemirror_mode": {
    "name": "ipython",
    "version": 3
   },
   "file_extension": ".py",
   "mimetype": "text/x-python",
   "name": "python",
   "nbconvert_exporter": "python",
   "pygments_lexer": "ipython3",
   "version": "3.9.12"
  },
  "orig_nbformat": 4,
  "vscode": {
   "interpreter": {
    "hash": "c3108f0eb53a8b68eb4132aec50c5cd9cd32243b94aaa2255ce7d2c62f93cae5"
   }
  }
 },
 "nbformat": 4,
 "nbformat_minor": 2
}
