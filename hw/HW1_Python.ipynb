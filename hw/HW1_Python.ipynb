{
  "cells": [
    {
      "cell_type": "markdown",
      "metadata": {
        "id": "lh1cyX2mj_4V"
      },
      "source": [
        "# 과제 1. 나만의 python & 알고리즘 함수 만들기\n",
        "## 1. 파이썬 내장함수 만들기\n",
        "Python에는 사용자의 편의를 위해서 여러가지 함수를 내장하고 있다. 다음 사진이 python 내장함수의 목록을 보여준다.\n",
        "\n",
        "<p align=\"center\"><img src=\"https://wikidocs.net/images/page/14598/2-1.png\" width=\"600px\"></p>\n",
        "\n",
        "자세한 내용은 [링크](https://docs.python.org/ko/3/library/functions.html)에서 확인해 볼 수 있으며, 문서 안에서 몇 가지 예시를 제시하고 있다. 다음은 python 공식 문서에서 제시하는 `all` 함수의 예시를 `my_all` 함수로 재작성한 예시이다."
      ]
    },
    {
      "cell_type": "code",
      "execution_count": 31,
      "metadata": {
        "id": "KtICkC5sj_4X"
      },
      "outputs": [
        {
          "name": "stdout",
          "output_type": "stream",
          "text": [
            "통과\n"
          ]
        }
      ],
      "source": [
        "def my_all(iterable):\n",
        "    for element in iterable:\n",
        "        if not element:\n",
        "            return False\n",
        "    return True\n",
        "\n",
        "test1 = [True, 7 == 4, 3 > 7, False]\n",
        "test2 = [3 < 5, 10 == 10, True, 'something']\n",
        "\n",
        "# Assert 문은 이하의 식의 참인지 검사합니다.\n",
        "assert all(test1) == my_all(test1) == False\n",
        "assert all(test2) == my_all(test2) == True\n",
        "\n",
        "print(\"통과\")"
      ]
    },
    {
      "cell_type": "markdown",
      "metadata": {
        "id": "Z6GUKRRQj_4Z"
      },
      "source": [
        "아래의 함수들은 자주 사용되는 내장 함수들의 목록이다. 위의 코드 예시와 같이 몇 가지 함수들을 내장 함수를 쓰지 않고 따라 만들어보자. \\\n",
        "(단, int 같은 형변환 내장 함수 및 iter, next 같은 이 파일에서 재구현 되지 않는 내장 함수는 사용 가능하며, 편의를 위해 엄격하게 만들지 않고 test를 통과할 정도만 작성하여도 무방하다.)"
      ]
    },
    {
      "cell_type": "markdown",
      "metadata": {
        "id": "UrC-IOlfj_4Z"
      },
      "source": [
        "### 1-1. abs"
      ]
    },
    {
      "cell_type": "code",
      "execution_count": null,
      "metadata": {
        "colab": {
          "base_uri": "https://localhost:8080/"
        },
        "id": "RCpeIZx8j_4a",
        "outputId": "d21afed0-5537-4ff4-e565-523760d8af81"
      },
      "outputs": [
        {
          "name": "stdout",
          "output_type": "stream",
          "text": [
            "통과\n"
          ]
        }
      ],
      "source": [
        "def my_abs(number):\n",
        "    if number < 0:\n",
        "      return -number\n",
        "    else:\n",
        "      return number\n",
        "\n",
        "test1 = 1.7\n",
        "test2 = -8\n",
        "assert abs(test1) == my_abs(test1)\n",
        "assert abs(test2) == my_abs(test2)\n",
        "print(\"통과\")"
      ]
    },
    {
      "cell_type": "markdown",
      "metadata": {
        "id": "sBqLryIxj_4a"
      },
      "source": [
        "### 1-2. round"
      ]
    },
    {
      "cell_type": "code",
      "execution_count": null,
      "metadata": {
        "colab": {
          "base_uri": "https://localhost:8080/"
        },
        "id": "xaEfCMwmj_4a",
        "outputId": "fcd52a6f-8b1e-4b20-96fe-5a86417a737b"
      },
      "outputs": [
        {
          "name": "stdout",
          "output_type": "stream",
          "text": [
            "통과\n"
          ]
        }
      ],
      "source": [
        "def my_round(number, ndgits=None):\n",
        "  num = number\n",
        "  ndigit = ndgits if ndgits else 0\n",
        "  ndigit += 1\n",
        "  for _ in range(ndigit):\n",
        "    num *= 10\n",
        "  if num%10 < 5:\n",
        "    num = num - num%10\n",
        "  else:\n",
        "    num = num - num%10 + 10\n",
        "  for _ in range(ndigit):\n",
        "    num /= 10\n",
        "  return num\n",
        "\n",
        "  \n",
        "      \n",
        "\n",
        "test = 1.74789\n",
        "assert round(test) == my_round(test)\n",
        "assert round(test, 3) == my_round(test, 3)\n",
        "assert round(-test, 2) == my_round(-test, 2)\n",
        "print(\"통과\")"
      ]
    },
    {
      "cell_type": "markdown",
      "metadata": {
        "id": "PTJk84oPj_4b"
      },
      "source": [
        "### 1-3. any"
      ]
    },
    {
      "cell_type": "code",
      "execution_count": null,
      "metadata": {
        "colab": {
          "base_uri": "https://localhost:8080/"
        },
        "id": "bnBMZp3qj_4b",
        "outputId": "9f75f6e7-547b-42e4-d9f3-2ac813ee61d8"
      },
      "outputs": [
        {
          "name": "stdout",
          "output_type": "stream",
          "text": [
            "통과\n"
          ]
        }
      ],
      "source": [
        "def my_any(iterable):\n",
        "    for instance in iterable:\n",
        "      if instance:\n",
        "        return True\n",
        "    return False\n",
        "\n",
        "test1 = [True, 7 == 4, 'Something', False]\n",
        "test2 = [3 > 5, 10 != 10, False, '', None]\n",
        "assert any(test1) == my_any(test1)\n",
        "assert any(test2) == my_any(test2)\n",
        "print(\"통과\")"
      ]
    },
    {
      "cell_type": "markdown",
      "metadata": {
        "id": "r1a2t34Sj_4b"
      },
      "source": [
        "### 1-4. enumerate"
      ]
    },
    {
      "cell_type": "code",
      "execution_count": null,
      "metadata": {
        "colab": {
          "base_uri": "https://localhost:8080/"
        },
        "id": "Eb3wJhDJj_4c",
        "outputId": "e9d69562-32b0-46a5-ac4d-0d4e2a380e0c"
      },
      "outputs": [
        {
          "name": "stdout",
          "output_type": "stream",
          "text": [
            "통과\n"
          ]
        }
      ],
      "source": [
        "def my_enumerate(sequence, start=0):\n",
        "  if not start:\n",
        "    n = 0\n",
        "  else:\n",
        "    n = start\n",
        "  for instance in sequence:\n",
        "    yield (n, instance)\n",
        "    n += 1\n",
        "\n",
        "test1 = [60, 50, 20, 10]\n",
        "test2 = [True, None, 'test']\n",
        "assert list(enumerate(test1)) == list(my_enumerate(test1))\n",
        "assert list(enumerate(test2, 12)) == list(my_enumerate(test2, 12))\n",
        "print(\"통과\")"
      ]
    },
    {
      "cell_type": "markdown",
      "metadata": {
        "id": "6GhbhgNsj_4c"
      },
      "source": [
        "### 1-5. max & min"
      ]
    },
    {
      "cell_type": "code",
      "execution_count": null,
      "metadata": {
        "colab": {
          "base_uri": "https://localhost:8080/"
        },
        "id": "CPb7b92Fj_4c",
        "outputId": "29977b02-65aa-4608-9038-c0ed6877fe88"
      },
      "outputs": [
        {
          "name": "stdout",
          "output_type": "stream",
          "text": [
            "통과\n"
          ]
        }
      ],
      "source": [
        "def my_max(*args):\n",
        "  max = None\n",
        "  if len(args) > 1:\n",
        "    targets = list(args)\n",
        "  else:\n",
        "    targets = args[0]\n",
        "  for num in targets:\n",
        "    if not max:\n",
        "      max = num\n",
        "    elif max < num:\n",
        "      max = num\n",
        "  return max\n",
        "\n",
        "def my_min(*args):\n",
        "  min = None\n",
        "  if len(args) > 1:\n",
        "    targets = list(args)\n",
        "  else:\n",
        "    targets = args[0]\n",
        "  for num in targets:\n",
        "    if not min:\n",
        "      min = num\n",
        "    elif min > num:\n",
        "      min = num\n",
        "  return min\n",
        "\n",
        "test = [7, 4, 2, 6, 8]\n",
        "assert max(test) == my_max(test) and min(test) == my_min(test)\n",
        "assert max(7, 4, 2, 5) == my_max(7, 4, 2, 5) and min(7, 4, 2, 5) == my_min(7, 4, 2, 5)\n",
        "print(\"통과\")"
      ]
    },
    {
      "cell_type": "markdown",
      "metadata": {
        "id": "LYJx5t63j_4c"
      },
      "source": [
        "### 1-6. range\n",
        "실제론 함수가 아니지만 함수 같이 만들어보자."
      ]
    },
    {
      "cell_type": "code",
      "execution_count": null,
      "metadata": {
        "colab": {
          "base_uri": "https://localhost:8080/"
        },
        "id": "z5liW1V-j_4d",
        "outputId": "33d84aa0-a477-4eed-b766-ceb1a56fac42"
      },
      "outputs": [
        {
          "name": "stdout",
          "output_type": "stream",
          "text": [
            "통과\n"
          ]
        }
      ],
      "source": [
        "def my_range(*args):\n",
        "  try:\n",
        "    start, stop, sep = args\n",
        "  except ValueError:\n",
        "    try:\n",
        "      start, stop = args\n",
        "      sep = 1\n",
        "    except ValueError:\n",
        "      stop, = args\n",
        "      start = 0\n",
        "      sep = 1\n",
        "  number = start\n",
        "  if sep > 0:\n",
        "    while number < stop:\n",
        "      yield number\n",
        "      number += sep\n",
        "  else:\n",
        "    while number > stop:\n",
        "      yield number\n",
        "      number += sep\n",
        "\n",
        "assert list(range(10)) == list(my_range(10))\n",
        "assert list(range(3, 10)) == list(my_range(3, 10))\n",
        "assert list(range(3, 10, 2)) == list(my_range(3, 10, 2))\n",
        "assert list(range(10, 3, -2)) == list(my_range(10, 3, -2))\n",
        "print(\"통과\")"
      ]
    },
    {
      "cell_type": "markdown",
      "metadata": {
        "id": "Ki0TIFGij_4d"
      },
      "source": [
        "### 1-7. reversed"
      ]
    },
    {
      "cell_type": "code",
      "execution_count": null,
      "metadata": {
        "colab": {
          "base_uri": "https://localhost:8080/"
        },
        "id": "omq-iRJsj_4d",
        "outputId": "cb2f8d1f-19b1-4f6e-fcdb-74e407bbae26"
      },
      "outputs": [
        {
          "name": "stdout",
          "output_type": "stream",
          "text": [
            "통과\n"
          ]
        }
      ],
      "source": [
        "def my_reversed(seq):\n",
        "    i = len(seq) - 1\n",
        "    while i >= 0:\n",
        "      yield seq[i]\n",
        "      i -= 1\n",
        "\n",
        "test = [7, 4, 2, 6, 8]\n",
        "assert list(reversed(test)) == list(my_reversed(test))\n",
        "print(\"통과\")"
      ]
    },
    {
      "cell_type": "markdown",
      "metadata": {
        "id": "EO1bxjI2j_4d"
      },
      "source": [
        "### 1-8. filter"
      ]
    },
    {
      "cell_type": "code",
      "execution_count": null,
      "metadata": {
        "colab": {
          "base_uri": "https://localhost:8080/"
        },
        "id": "TN6rpi9bj_4d",
        "outputId": "52b63137-62df-47e9-9356-8370133a47f4"
      },
      "outputs": [
        {
          "name": "stdout",
          "output_type": "stream",
          "text": [
            "통과\n"
          ]
        }
      ],
      "source": [
        "def my_filter(function, iterable):\n",
        "    for instance in iterable:\n",
        "      if function(instance):\n",
        "        yield instance\n",
        "\n",
        "def test_function(number):\n",
        "    return number > 5\n",
        "test = [1, 7, 5, 2, 9, 11]\n",
        "\n",
        "# 역슬래시 \"\\\"를 이용하면 평가식을 다음 줄로 나눌 수 있다.\n",
        "assert list(filter(test_function, test)) == list(my_filter(test_function, test)) \\\n",
        "    == list(filter(lambda x: x > 5, test))\n",
        "print(\"통과\")"
      ]
    },
    {
      "cell_type": "markdown",
      "metadata": {
        "id": "heIN6IBLxP9d"
      },
      "source": [
        "### 1-9. map"
      ]
    },
    {
      "cell_type": "code",
      "execution_count": null,
      "metadata": {
        "colab": {
          "base_uri": "https://localhost:8080/"
        },
        "id": "748JDhTWxPqz",
        "outputId": "ddf36f90-7c50-421c-bced-295768a34302"
      },
      "outputs": [
        {
          "name": "stdout",
          "output_type": "stream",
          "text": [
            "통과\n"
          ]
        }
      ],
      "source": [
        "def my_map(function, iterable):\n",
        "    for instance in iterable:\n",
        "      yield function(instance)\n",
        "\n",
        "def test_function(number):\n",
        "    return number * 2\n",
        "test = [1, 7, 5, 2, 9, 11]\n",
        "\n",
        "assert list(map(test_function, test)) == list(my_map(test_function, test)) \\\n",
        "    == list(map(lambda x: x * 2, test))\n",
        "print(\"통과\")"
      ]
    },
    {
      "cell_type": "markdown",
      "metadata": {
        "id": "TFRcIgaej_4e"
      },
      "source": [
        "### 1-10. sum"
      ]
    },
    {
      "cell_type": "code",
      "execution_count": null,
      "metadata": {
        "colab": {
          "base_uri": "https://localhost:8080/"
        },
        "id": "OBMnyE-Jj_4e",
        "outputId": "9bd4a65e-7bb9-4390-ab5d-cf12fb539ff9"
      },
      "outputs": [
        {
          "name": "stdout",
          "output_type": "stream",
          "text": [
            "통과\n"
          ]
        }
      ],
      "source": [
        "def my_sum(iterable, start=0):\n",
        "    result = 0\n",
        "    for instance in iterable:\n",
        "      result += instance\n",
        "    return result\n",
        "\n",
        "test = [7, 4, 2, 6, 8]\n",
        "assert sum(test) == my_sum(test)\n",
        "assert sum(range(10)) == my_sum(my_range(10))\n",
        "assert sum(filter(lambda x: x % 2, range(1, 20, 3))) \\\n",
        "    == my_sum(my_filter(lambda x: x % 2, my_range(1, 20, 3)))\n",
        "print(\"통과\")"
      ]
    },
    {
      "cell_type": "markdown",
      "metadata": {
        "id": "ECrWOlnjj_4e"
      },
      "source": [
        "### 1-11. zip"
      ]
    },
    {
      "cell_type": "code",
      "execution_count": null,
      "metadata": {
        "colab": {
          "base_uri": "https://localhost:8080/"
        },
        "id": "TFQnbWW1j_4e",
        "outputId": "0ab8e47d-c245-4a1c-ce14-52793df3c96d"
      },
      "outputs": [
        {
          "name": "stdout",
          "output_type": "stream",
          "text": [
            "통과\n"
          ]
        }
      ],
      "source": [
        "def my_zip(*iterables):\n",
        "  row = len(iterables)\n",
        "  col = None\n",
        "  for iterable in iterables:\n",
        "    if not col:\n",
        "      col = len(iterable)\n",
        "    if len(iterable) < col:\n",
        "      col = len(iterable)\n",
        "  for j in range(col):\n",
        "    result = []\n",
        "    for i in range(row):\n",
        "      result.append(iterables[i][j])\n",
        "    yield tuple(result)\n",
        "\n",
        "test1 = (1, 2, 3)\n",
        "test2 = (10, 2, 30)\n",
        "assert list(zip(test1, test2)) == list(my_zip(test1, test2))\n",
        "\n",
        "test3 = [(10, 20, 30, 40), (55, 22, 66, 70), (False, True, True, False)]\n",
        "assert list(zip(*test3)) == list(my_zip(*test3))\n",
        "print(\"통과\")"
      ]
    },
    {
      "cell_type": "markdown",
      "metadata": {
        "id": "Gm9742vej_4e"
      },
      "source": [
        "### 1-12. sorted\n",
        "정렬 알고리즘은 어떠한 것을 써도 무방하다.\n",
        "O(N^2) 시간복잡도의 쉬운 정렬 알고리즘으로 일반적으로 [삽입정렬](https://ko.wikipedia.org/wiki/%EC%82%BD%EC%9E%85_%EC%A0%95%EB%A0%AC), [선택정렬](https://ko.wikipedia.org/wiki/%EC%84%A0%ED%83%9D_%EC%A0%95%EB%A0%AC), 그리고 [버블정렬](https://ko.wikipedia.org/wiki/%EA%B1%B0%ED%92%88_%EC%A0%95%EB%A0%AC)을 꼽는다.\n",
        "O(N log N) 시간복잡도의 더 빠른 정렬 프로그램을 만들고 싶다면 [퀵정렬](https://ko.wikipedia.org/wiki/%ED%80%B5_%EC%A0%95%EB%A0%AC)이나 [합병정렬](https://ko.wikipedia.org/wiki/%ED%95%A9%EB%B3%91_%EC%A0%95%EB%A0%AC)을 구현해보자."
      ]
    },
    {
      "cell_type": "code",
      "execution_count": null,
      "metadata": {
        "colab": {
          "base_uri": "https://localhost:8080/"
        },
        "id": "h3fKPQodj_4f",
        "outputId": "614ad9e8-2771-4e6a-ba32-b028e63beeb6"
      },
      "outputs": [
        {
          "name": "stdout",
          "output_type": "stream",
          "text": [
            "통과\n"
          ]
        }
      ],
      "source": [
        "def my_sorted(iterable, key=None, reverse=False):\n",
        "  max = len(iterable) - 1\n",
        "  while max > 0:\n",
        "    for i in range(max):\n",
        "      if reverse:\n",
        "        if not key:\n",
        "          if iterable[i] < iterable[i+1]:\n",
        "            iterable[i], iterable[i+1] = iterable[i+1], iterable[i]\n",
        "        else:\n",
        "          if key(iterable[i]) < key(iterable[i+1]):\n",
        "            iterable[i], iterable[i+1] = iterable[i+1], iterable[i]\n",
        "      else:\n",
        "        if not key:\n",
        "          if iterable[i] > iterable[i+1]:\n",
        "            iterable[i], iterable[i+1] = iterable[i+1], iterable[i]\n",
        "        else:\n",
        "          if key(iterable[i]) > key(iterable[i+1]):\n",
        "            iterable[i], iterable[i+1] = iterable[i+1], iterable[i]\n",
        "    max -= 1\n",
        "  return iterable\n",
        "\n",
        "\n",
        "\n",
        "test1 = [7, 4, 2, 6, 8]\n",
        "assert sorted(test1) == my_sorted(test1)\n",
        "test2 = [(1, 2), (6, 2), (5, 3), (10, 5)]\n",
        "assert sorted(test2) == my_sorted(test2) \\\n",
        "   and sorted(test2, reverse=True) == my_sorted(test2, reverse=True) \\\n",
        "   and sorted(test2, key=lambda x: x[1]) == my_sorted(test2, key=lambda x: x[1])\n",
        "print(\"통과\")"
      ]
    },
    {
      "cell_type": "markdown",
      "metadata": {
        "id": "FgiQdO2Gj_4f"
      },
      "source": [
        "## 2. 알고리즘 함수 만들기\n",
        "몇 가지 간단한 알고리즘 함수를 만들어보자.\n",
        "\n",
        "### 2-1. 피보나치 수열 만들기\n",
        "숫자 $N$가 주어졌을때,다피보나치 길이 $N$의 피보나치 수열을 생성하는 함수를 작성해보자. 시작은 1부터다."
      ]
    },
    {
      "cell_type": "code",
      "execution_count": null,
      "metadata": {
        "colab": {
          "base_uri": "https://localhost:8080/"
        },
        "id": "SathO3raj_4f",
        "outputId": "f0ca4ac2-6b5b-447f-c675-35d68d666ad7"
      },
      "outputs": [
        {
          "name": "stdout",
          "output_type": "stream",
          "text": [
            "통과\n"
          ]
        }
      ],
      "source": [
        "def fibonacci(number):\n",
        "  cache = {0:1,1:1}\n",
        "  n = 0\n",
        "  while n < number:\n",
        "    if n in cache:\n",
        "      yield cache[n]\n",
        "    else:\n",
        "      cache[n] = cache[n-1] + cache[n-2]\n",
        "      yield cache[n]\n",
        "    n += 1\n",
        "\n",
        "assert list(fibonacci(10)) == [1, 1, 2, 3, 5, 8, 13, 21, 34, 55]\n",
        "assert sum(fibonacci(5)) == 12\n",
        "print(\"통과\") "
      ]
    },
    {
      "cell_type": "markdown",
      "metadata": {
        "id": "qbdm9l5pj_4f"
      },
      "source": [
        "### 2-2. 순열 만들기\n",
        "수열 $S$가 주어졌을때 그 안에서 $N$를 뽑아 순열을 만드는 함수를 작성해보자. 순서는 상관없다. \\\n",
        "(힌트: 재귀 함수를 써보자)"
      ]
    },
    {
      "cell_type": "code",
      "execution_count": 24,
      "metadata": {
        "id": "r9qXLBcXj_4f"
      },
      "outputs": [
        {
          "name": "stdout",
          "output_type": "stream",
          "text": [
            "통과\n"
          ]
        }
      ],
      "source": [
        "def my_permutations(seq, number):\n",
        "  if number == 1:\n",
        "    for result in seq:\n",
        "      yield (result,)\n",
        "  else:\n",
        "    for target in seq:\n",
        "      for instance in my_permutations(seq, number-1):\n",
        "        tmp_instance = list(instance)\n",
        "        if target not in instance:\n",
        "          tmp_instance.append(target)\n",
        "          yield tuple(tmp_instance)\n",
        "\n",
        "from itertools import permutations\n",
        "test = [1, 2, 3, 4]\n",
        "\n",
        "assert set(permutations(test, 2)) == set(my_permutations(test, 2)) \\\n",
        "   and set(permutations(test, 3)) == set(my_permutations(test, 3))\n",
        "print(\"통과\") "
      ]
    },
    {
      "cell_type": "markdown",
      "metadata": {
        "id": "laEqDZNsj_4g"
      },
      "source": [
        "### 2-3. 조합 만들기\n",
        "수열 $S$가 주어졌을때 그 안에서 $N$를 뽑아 조합을 만드는 함수를 작성해보자. 순서는 상관없다. \\\n",
        "(힌트: 재귀 함수를 써보자)"
      ]
    },
    {
      "cell_type": "code",
      "execution_count": 30,
      "metadata": {
        "id": "CJer6T7Nj_4g"
      },
      "outputs": [
        {
          "name": "stdout",
          "output_type": "stream",
          "text": [
            "통과\n"
          ]
        }
      ],
      "source": [
        "def my_combinations(seq, number):\n",
        "    if number == 1:\n",
        "        for result in seq:\n",
        "            yield (result,)\n",
        "    else:\n",
        "        for target in seq:\n",
        "            for instance in my_combinations(seq, number-1):\n",
        "                tmp_instance = list(instance)\n",
        "                if target not in instance and max(instance) < target:\n",
        "                    tmp_instance.append(target)\n",
        "                    yield tuple(tmp_instance)\n",
        "\n",
        "from itertools import combinations\n",
        "test = [1, 2, 3, 4]\n",
        "\n",
        "assert set(combinations(test, 2)) == set(my_combinations(test, 2)) \\\n",
        "   and set(combinations(test, 3)) == set(my_combinations(test, 3))\n",
        "print(\"통과\") "
      ]
    }
  ],
  "metadata": {
    "colab": {
      "collapsed_sections": [],
      "name": "HW1. Python 내장함수와 알고리즘 구현.ipynb의 사본",
      "provenance": []
    },
    "kernelspec": {
      "display_name": "Python 3.9.12 ('base')",
      "language": "python",
      "name": "python3"
    },
    "language_info": {
      "codemirror_mode": {
        "name": "ipython",
        "version": 3
      },
      "file_extension": ".py",
      "mimetype": "text/x-python",
      "name": "python",
      "nbconvert_exporter": "python",
      "pygments_lexer": "ipython3",
      "version": "3.9.12"
    },
    "orig_nbformat": 4,
    "vscode": {
      "interpreter": {
        "hash": "c3108f0eb53a8b68eb4132aec50c5cd9cd32243b94aaa2255ce7d2c62f93cae5"
      }
    }
  },
  "nbformat": 4,
  "nbformat_minor": 0
}
