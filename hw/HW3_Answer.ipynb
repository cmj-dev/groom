{
 "cells": [
  {
   "cell_type": "markdown",
   "metadata": {
    "id": "qMI8D9s74EfK"
   },
   "source": [
    "### Exercise\n",
    "\n",
    "다음 linear system들의 (i) 해가 무수히 많이 존재하는 경우, (ii) 해가 한 개 존재하는 경우, (iii) 해가 존재하지 않는 경우로 나누고 존재할 경우 해를 구하시오. 또한 각각에 대해 A의 inverse가 존재하는지 설명하시오. (Hint: 위 예시의 linsolve 함수를 사용)\n",
    "\n",
    "\n",
    "$ Ax = b $ \\\\\n",
    "(a) $ \\begin{bmatrix}\n",
    "0 & 1 & 4\\\\\n",
    "1 & 3 & 5\\\\\n",
    "3 & 7 & 7\n",
    "\\end{bmatrix} \\begin{bmatrix}\n",
    "x_1\\\\\n",
    "x_2\\\\\n",
    "x_3\n",
    "\\end{bmatrix} = \\begin{bmatrix}\n",
    "-5\\\\\n",
    "-2\\\\\n",
    "6\n",
    "\\end{bmatrix} $ \\\\\n",
    "(b) $ \\begin{bmatrix}\n",
    "1 & 0 & -3\\\\\n",
    "2 & 2 & 9\\\\\n",
    "0 & 1 & 5\n",
    "\\end{bmatrix} \\begin{bmatrix}\n",
    "x_1\\\\\n",
    "x_2\\\\\n",
    "x_3\n",
    "\\end{bmatrix} = \\begin{bmatrix}\n",
    "8\\\\\n",
    "7\\\\\n",
    "-2\n",
    "\\end{bmatrix} $ \\\\\n",
    "(c) $ \\begin{bmatrix}\n",
    "1 & 2 & 3\\\\\n",
    "4 & 5 & 9\\\\\n",
    "9 & 12 & 21\n",
    "\\end{bmatrix} \\begin{bmatrix}\n",
    "x_1\\\\\n",
    "x_2\\\\\n",
    "x_3\n",
    "\\end{bmatrix} = \\begin{bmatrix}\n",
    "5\\\\\n",
    "2\\\\\n",
    "9\n",
    "\\end{bmatrix} $\n",
    "\n"
   ]
  },
  {
   "cell_type": "markdown",
   "metadata": {},
   "source": [
    "### Answer"
   ]
  },
  {
   "cell_type": "code",
   "execution_count": 1,
   "metadata": {},
   "outputs": [
    {
     "name": "stdout",
     "output_type": "stream",
     "text": [
      "(a)의 경우는 determinant가 0이기 때문에 inverse가 존재하지 않고 linsolve를 실행한 결과, 해가 존재하지 않음을 알 수 있다.\n",
      "0\n"
     ]
    },
    {
     "data": {
      "text/latex": [
       "$\\displaystyle \\emptyset$"
      ],
      "text/plain": [
       "EmptySet"
      ]
     },
     "execution_count": 1,
     "metadata": {},
     "output_type": "execute_result"
    }
   ],
   "source": [
    "import sympy as sy\n",
    "from sympy.solvers.solveset import linsolve\n",
    "x1, x2, x3 = sy.symbols('x1 x2 x3')\n",
    "A = sy.Matrix(((0,1,4),(1,3,5),(3,7,7)))\n",
    "b = sy.Matrix((-5,-2,6))\n",
    "system_a = A,b\n",
    "print(\"(a)의 경우는 determinant가 0이기 때문에 inverse가 존재하지 않고 linsolve를 실행한 결과, 해가 존재하지 않음을 알 수 있다.\")\n",
    "print(A.det())\n",
    "linsolve(system_a, x1, x2, x3)"
   ]
  },
  {
   "cell_type": "code",
   "execution_count": 2,
   "metadata": {},
   "outputs": [
    {
     "name": "stdout",
     "output_type": "stream",
     "text": [
      "(a)의 경우는 determinant가 0이 아니기 때문에 inverse가 존재하고 linsolve를 실행한 결과, 해가 한 개 존재함을 알 수 있다.\n",
      "-5\n"
     ]
    },
    {
     "data": {
      "text/latex": [
       "$\\displaystyle \\left\\{\\left( 5, \\  3, \\  -1\\right)\\right\\}$"
      ],
      "text/plain": [
       "{(5, 3, -1)}"
      ]
     },
     "execution_count": 2,
     "metadata": {},
     "output_type": "execute_result"
    }
   ],
   "source": [
    "A = sy.Matrix(((1,0,-3),(2,2,9),(0,1,5)))\n",
    "b = sy.Matrix((8,7,-2))\n",
    "system_b = A,b\n",
    "print(\"(a)의 경우는 determinant가 0이 아니기 때문에 inverse가 존재하고 linsolve를 실행한 결과, 해가 한 개 존재함을 알 수 있다.\")\n",
    "print(A.det())\n",
    "linsolve(system_b, x1, x2, x3)"
   ]
  },
  {
   "cell_type": "code",
   "execution_count": 3,
   "metadata": {},
   "outputs": [
    {
     "name": "stdout",
     "output_type": "stream",
     "text": [
      "(a)의 경우는 determinant가 0이기 때문에 inverse가 존재하지 않고 linsolve를 실행한 결과, 해가 무수히 많이 존재함을 알 수 있다.\n",
      "0\n"
     ]
    },
    {
     "data": {
      "text/latex": [
       "$\\displaystyle \\left\\{\\left( - x_{3} - 7, \\  6 - x_{3}, \\  x_{3}\\right)\\right\\}$"
      ],
      "text/plain": [
       "{(-x3 - 7, 6 - x3, x3)}"
      ]
     },
     "execution_count": 3,
     "metadata": {},
     "output_type": "execute_result"
    }
   ],
   "source": [
    "A = sy.Matrix(((1,2,3),(4,5,9),(9,12,21)))\n",
    "b = sy.Matrix((5,2,9))\n",
    "system_c = A,b\n",
    "print(\"(a)의 경우는 determinant가 0이기 때문에 inverse가 존재하지 않고 linsolve를 실행한 결과, 해가 무수히 많이 존재함을 알 수 있다.\")\n",
    "print(A.det())\n",
    "linsolve(system_c, x1, x2, x3)"
   ]
  }
 ],
 "metadata": {
  "kernelspec": {
   "display_name": "Python 3.9.12 ('base')",
   "language": "python",
   "name": "python3"
  },
  "language_info": {
   "codemirror_mode": {
    "name": "ipython",
    "version": 3
   },
   "file_extension": ".py",
   "mimetype": "text/x-python",
   "name": "python",
   "nbconvert_exporter": "python",
   "pygments_lexer": "ipython3",
   "version": "3.9.12"
  },
  "orig_nbformat": 4,
  "vscode": {
   "interpreter": {
    "hash": "c3108f0eb53a8b68eb4132aec50c5cd9cd32243b94aaa2255ce7d2c62f93cae5"
   }
  }
 },
 "nbformat": 4,
 "nbformat_minor": 2
}
